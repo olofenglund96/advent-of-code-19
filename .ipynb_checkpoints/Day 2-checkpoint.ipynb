{
 "cells": [
  {
   "cell_type": "code",
   "execution_count": 1,
   "metadata": {},
   "outputs": [],
   "source": [
    "import math"
   ]
  },
  {
   "cell_type": "code",
   "execution_count": 21,
   "metadata": {},
   "outputs": [
    {
     "name": "stdout",
     "output_type": "stream",
     "text": [
      "1\n"
     ]
    }
   ],
   "source": [
    "\n",
    "with open('inputs/2.txt', 'r') as file:\n",
    "    line = file.readlines()[0]\n",
    "    nbrs = [int(v) for v in line.split(',')]\n",
    "    nbrs[1] = 12\n",
    "    nbrs[2] = 2\n",
    "    i = 0\n",
    "    \n",
    "    while i < nbrs.index(99):\n",
    "        op = nbrs[i]\n",
    "        print(op)\n",
    "        cval = 0\n",
    "        \n",
    "        if op == 1:\n",
    "            cval = nbrs[i+1] + nbrs[i+2]\n",
    "        else:\n",
    "            cval = nbrs[i+1] * nbrs[i+2]\n",
    "        \n",
    "        nbrs[i+3] = cval\n",
    "        \n",
    "        i += 4\n",
    "        \n",
    "        \n",
    "    print(nbrs[0])\n",
    "    "
   ]
  },
  {
   "cell_type": "code",
   "execution_count": null,
   "metadata": {},
   "outputs": [],
   "source": []
  }
 ],
 "metadata": {
  "kernelspec": {
   "display_name": "Python 3",
   "language": "python",
   "name": "python3"
  },
  "language_info": {
   "codemirror_mode": {
    "name": "ipython",
    "version": 3
   },
   "file_extension": ".py",
   "mimetype": "text/x-python",
   "name": "python",
   "nbconvert_exporter": "python",
   "pygments_lexer": "ipython3",
   "version": "3.7.4"
  }
 },
 "nbformat": 4,
 "nbformat_minor": 2
}
