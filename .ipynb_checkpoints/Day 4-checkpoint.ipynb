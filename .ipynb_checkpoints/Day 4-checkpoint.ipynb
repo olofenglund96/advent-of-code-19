{
 "cells": [
  {
   "cell_type": "code",
   "execution_count": 24,
   "metadata": {},
   "outputs": [],
   "source": [
    "import numpy as np"
   ]
  },
  {
   "cell_type": "code",
   "execution_count": 20,
   "metadata": {},
   "outputs": [],
   "source": [
    "low = 136760\n",
    "high = 595730\n",
    "combs = 0\n",
    "\n",
    "for i in range(low, high):\n",
    "    adj, incr = (False, True)\n",
    "    si = str(i)\n",
    "    \n",
    "    for s in range(0, len(si)-1):\n",
    "        s1 = int(si[s])\n",
    "        s2 = int(si[s+1])\n",
    "        if s2 >= s1:\n",
    "            if s1 == s2:\n",
    "                adj = True\n",
    "        else:\n",
    "            incr = False\n",
    "            break\n",
    "    \n",
    "    if adj and incr:\n",
    "        combs += 1\n",
    "    "
   ]
  },
  {
   "cell_type": "code",
   "execution_count": 21,
   "metadata": {},
   "outputs": [
    {
     "data": {
      "text/plain": [
       "1873"
      ]
     },
     "execution_count": 21,
     "metadata": {},
     "output_type": "execute_result"
    }
   ],
   "source": [
    "combs"
   ]
  },
  {
   "cell_type": "code",
   "execution_count": 28,
   "metadata": {},
   "outputs": [
    {
     "data": {
      "text/plain": [
       "1356"
      ]
     },
     "execution_count": 28,
     "metadata": {},
     "output_type": "execute_result"
    }
   ],
   "source": [
    "low = 136760\n",
    "high = 595730\n",
    "combs = 0\n",
    "\n",
    "for i in range(low, high):\n",
    "    adj, incr, grps, adjc = (False, True, True, 1)\n",
    "    si = str(i)\n",
    "    \n",
    "    for s in range(0, len(si)-1):\n",
    "        s1 = int(si[s])\n",
    "        s2 = int(si[s+1])\n",
    "        \n",
    "        if s2 >= s1:\n",
    "            if s1 == s2:\n",
    "                adj = True\n",
    "                adjc += 1\n",
    "            else:\n",
    "                if adjc > 1 and adjc % 2 != 0:\n",
    "                    grps = False\n",
    "                    break\n",
    "                adjc = 1\n",
    "        else:\n",
    "            incr = False\n",
    "            break\n",
    "    \n",
    "    if adj and grps and incr:\n",
    "        combs += 1\n",
    "\n",
    "combs"
   ]
  },
  {
   "cell_type": "code",
   "execution_count": 27,
   "metadata": {},
   "outputs": [
    {
     "data": {
      "text/plain": [
       "1"
      ]
     },
     "execution_count": 27,
     "metadata": {},
     "output_type": "execute_result"
    }
   ],
   "source": [
    "3 % 2"
   ]
  }
 ],
 "metadata": {
  "kernelspec": {
   "display_name": "Python 3",
   "language": "python",
   "name": "python3"
  },
  "language_info": {
   "codemirror_mode": {
    "name": "ipython",
    "version": 3
   },
   "file_extension": ".py",
   "mimetype": "text/x-python",
   "name": "python",
   "nbconvert_exporter": "python",
   "pygments_lexer": "ipython3",
   "version": "3.7.4"
  }
 },
 "nbformat": 4,
 "nbformat_minor": 2
}
