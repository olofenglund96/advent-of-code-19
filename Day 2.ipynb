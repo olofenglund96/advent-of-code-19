{
 "cells": [
  {
   "cell_type": "code",
   "execution_count": 1,
   "metadata": {},
   "outputs": [],
   "source": [
    "import math"
   ]
  },
  {
   "cell_type": "code",
   "execution_count": 27,
   "metadata": {},
   "outputs": [
    {
     "name": "stdout",
     "output_type": "stream",
     "text": [
      "[3224742, 12, 2, 2, 1, 1, 2, 3, 1, 3, 4, 3, 1, 5, 0, 3, 2, 1, 6, 24, 1, 19, 6, 26, 2, 23, 6, 52, 2, 6, 27, 104, 2, 13, 31, 520, 1, 9, 35, 523, 2, 10, 39, 2092, 1, 6, 43, 2094, 1, 13, 47, 2099, 2, 6, 51, 4198, 2, 55, 6, 8396, 1, 59, 5, 8397, 2, 9, 63, 25191, 1, 5, 67, 25192, 2, 10, 71, 100768, 1, 6, 75, 100770, 1, 79, 5, 100771, 2, 83, 10, 403084, 1, 9, 87, 403087, 1, 5, 91, 403088, 1, 95, 6, 403090, 2, 10, 99, 1612360, 1, 5, 103, 1612361, 1, 107, 6, 1612363, 1, 5, 111, 1612364, 2, 115, 6, 3224728, 1, 119, 6, 3224730, 1, 123, 10, 3224734, 1, 127, 13, 3224739, 1, 131, 2, 3224741, 1, 135, 5, 0, 99, 2, 14, 0, 0]\n"
     ]
    }
   ],
   "source": [
    "\n",
    "with open('inputs/2.txt', 'r') as file:\n",
    "    line = file.readlines()[0]\n",
    "    nbrs = [int(v) for v in line.split(',')]\n",
    "    nbrs[1] = 12\n",
    "    nbrs[2] = 2\n",
    "    i = 0\n",
    "    \n",
    "    while i < len(nbrs):\n",
    "        op = nbrs[i]\n",
    "        cval = 0\n",
    "        \n",
    "        if op == 1:\n",
    "            cval = nbrs[nbrs[i+1]] + nbrs[nbrs[i+2]]\n",
    "        else:\n",
    "            cval = nbrs[nbrs[i+1]] * nbrs[nbrs[i+2]]\n",
    "        \n",
    "        nbrs[nbrs[i+3]] = cval\n",
    "        \n",
    "        i += 4\n",
    "        \n",
    "        if nbrs[i] == 99:\n",
    "            break\n",
    "        \n",
    "        \n",
    "    print(nbrs)\n",
    "    "
   ]
  },
  {
   "cell_type": "code",
   "execution_count": 29,
   "metadata": {},
   "outputs": [],
   "source": [
    "with open('inputs/2.txt', 'r') as file:\n",
    "    line = file.readlines()[0]\n",
    "    nums = [int(v) for v in line.split(',')]"
   ]
  },
  {
   "cell_type": "code",
   "execution_count": 31,
   "metadata": {},
   "outputs": [
    {
     "name": "stdout",
     "output_type": "stream",
     "text": [
      "7960\n"
     ]
    }
   ],
   "source": [
    "for a in range(0,99):\n",
    "    for b in range(0,99):\n",
    "        nbrs = nums.copy()\n",
    "        nbrs[1] = a\n",
    "        nbrs[2] = b\n",
    "        i = 0\n",
    "\n",
    "        while i < len(nbrs):\n",
    "            op = nbrs[i]\n",
    "            cval = 0\n",
    "\n",
    "            if op == 1:\n",
    "                cval = nbrs[nbrs[i+1]] + nbrs[nbrs[i+2]]\n",
    "            else:\n",
    "                cval = nbrs[nbrs[i+1]] * nbrs[nbrs[i+2]]\n",
    "\n",
    "            nbrs[nbrs[i+3]] = cval\n",
    "\n",
    "            i += 4\n",
    "\n",
    "            if nbrs[i] == 99:\n",
    "                break\n",
    "\n",
    "        if nbrs[0] == 19690720:\n",
    "            print(100 * a + b)"
   ]
  },
  {
   "cell_type": "code",
   "execution_count": null,
   "metadata": {},
   "outputs": [],
   "source": []
  }
 ],
 "metadata": {
  "kernelspec": {
   "display_name": "Python 3",
   "language": "python",
   "name": "python3"
  },
  "language_info": {
   "codemirror_mode": {
    "name": "ipython",
    "version": 3
   },
   "file_extension": ".py",
   "mimetype": "text/x-python",
   "name": "python",
   "nbconvert_exporter": "python",
   "pygments_lexer": "ipython3",
   "version": "3.7.4"
  }
 },
 "nbformat": 4,
 "nbformat_minor": 2
}
