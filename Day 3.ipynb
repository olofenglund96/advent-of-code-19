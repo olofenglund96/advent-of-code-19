{
 "cells": [
  {
   "cell_type": "code",
   "execution_count": 24,
   "metadata": {},
   "outputs": [],
   "source": [
    "import numpy as np\n",
    "with open('./input/3.txt', 'r') as file:\n",
    "    wires = [l.strip() for l in file.readlines()][0:2]"
   ]
  },
  {
   "cell_type": "code",
   "execution_count": 186,
   "metadata": {},
   "outputs": [],
   "source": [
    "def compute_points(wire):\n",
    "    coords = [0,0]\n",
    "    xy = np.array([[0,0]])\n",
    "    for ins in wire:\n",
    "        x, y = coords\n",
    "        xn, yn = coords\n",
    "        task = ins[0]\n",
    "        length = int(ins[1:])\n",
    "        \n",
    "        if task == 'U':\n",
    "            yn = y + length\n",
    "            y += 1\n",
    "        elif task == 'R':\n",
    "            xn = x + length\n",
    "            x += 1\n",
    "        elif task == 'D':\n",
    "            yn = y - length\n",
    "            y -= 1\n",
    "        else:\n",
    "            xn = x - length\n",
    "            x -= 1\n",
    "            \n",
    "        xyt = np.array([np.linspace(x, xn, length), np.linspace(y, yn, length)]).T\n",
    "        xy = np.append(xy, xyt, axis=0)\n",
    "        coords = [xn, yn]\n",
    "    \n",
    "    return xy"
   ]
  },
  {
   "cell_type": "code",
   "execution_count": 187,
   "metadata": {},
   "outputs": [
    {
     "name": "stdout",
     "output_type": "stream",
     "text": [
      "(147388, 2) (154437, 2)\n"
     ]
    }
   ],
   "source": [
    "wire1 = wires[0].split(',')\n",
    "wire2 = wires[1].split(',')\n",
    "\n",
    "xy1 = compute_points(wire1)\n",
    "xy2 = compute_points(wire2)\n",
    "\n",
    "\n",
    "print(xy1.shape, xy2.shape)"
   ]
  },
  {
   "cell_type": "code",
   "execution_count": 188,
   "metadata": {},
   "outputs": [
    {
     "data": {
      "image/png": "[encoded data removed]",
      "text/plain": [
       "<Figure size 432x288 with 1 Axes>"
      ]
     },
     "metadata": {
      "needs_background": "light"
     },
     "output_type": "display_data"
    }
   ],
   "source": [
    "import matplotlib.pyplot as plt\n",
    "plt.plot(xy1[:,0], xy1[:,1])\n",
    "plt.plot(xy2[:,0], xy2[:,1])\n",
    "plt.show()"
   ]
  },
  {
   "cell_type": "code",
   "execution_count": 189,
   "metadata": {},
   "outputs": [],
   "source": [
    "intersections = np.array([x for x in set(tuple(x) for x in xy1) & set(tuple(x) for x in xy2)])"
   ]
  },
  {
   "cell_type": "code",
   "execution_count": 190,
   "metadata": {},
   "outputs": [
    {
     "name": "stdout",
     "output_type": "stream",
     "text": [
      "2998.0\n",
      "0\n",
      "2331.0\n",
      "1\n",
      "1771.0\n",
      "4\n",
      "1340.0\n",
      "6\n",
      "1314.0\n",
      "12\n",
      "865.0\n",
      "24\n",
      "0.0\n",
      "30\n"
     ]
    }
   ],
   "source": [
    "from scipy.spatial.distance import cdist\n",
    "mindist = 10000000\n",
    "\n",
    "dists = cdist(intersections, np.zeros(intersections.shape), metric='cityblock')\n",
    "\n",
    "for i, c in enumerate(dists[:,0]):\n",
    "    out = np.abs(c)\n",
    "    if out < mindist:\n",
    "        mindist = out\n",
    "        print(mindist)\n",
    "        print(i)"
   ]
  },
  {
   "cell_type": "code",
   "execution_count": 191,
   "metadata": {},
   "outputs": [],
   "source": [
    "def count_steps(coords, ins):\n",
    "    counts = []\n",
    "    print(ins)\n",
    "    for i in ins:\n",
    "        count = 0\n",
    "        for c in coords:\n",
    "            if (c == i).all():\n",
    "                counts.append(count)\n",
    "                break\n",
    "            \n",
    "            count += 1\n",
    "        \n",
    "    return counts"
   ]
  },
  {
   "cell_type": "code",
   "execution_count": 194,
   "metadata": {},
   "outputs": [
    {
     "name": "stdout",
     "output_type": "stream",
     "text": [
      "[[   0.    0.]\n",
      " [   1.    0.]\n",
      " [   2.    0.]\n",
      " ...\n",
      " [1000.    0.]\n",
      " [1000.   -1.]\n",
      " [1000.   -2.]]\n"
     ]
    }
   ],
   "source": [
    "print(xy1[0:1003])"
   ]
  },
  {
   "cell_type": "code",
   "execution_count": 192,
   "metadata": {},
   "outputs": [
    {
     "name": "stdout",
     "output_type": "stream",
     "text": [
      "[[ -644.  2354.]\n",
      " [ -632.  1699.]\n",
      " [ -811.  1903.]\n",
      " [ -817.  1592.]\n",
      " [  -91.  1680.]\n",
      " [ -817.  1923.]\n",
      " [  -30.  1310.]\n",
      " [ -817.  1888.]\n",
      " [    6.  3264.]\n",
      " [ -632.  1087.]\n",
      " [  -20. -1691.]\n",
      " [ -574. -1277.]\n",
      " [  192. -1122.]\n",
      " [    0.  1411.]\n",
      " [ -899.  1903.]\n",
      " [ -780.  1691.]\n",
      " [ -780.  1592.]\n",
      " [ -644.  1923.]\n",
      " [    6.  3317.]\n",
      " [ -632.  1309.]\n",
      " [  -30.  1411.]\n",
      " [ -632.  1521.]\n",
      " [ -491. -1583.]\n",
      " [ -211.  1310.]\n",
      " [  431.  -434.]\n",
      " [ -129. -1149.]\n",
      " [  -48. -1831.]\n",
      " [ -574. -1177.]\n",
      " [ -817.  1691.]\n",
      " [ -898.  1313.]\n",
      " [    0.     0.]\n",
      " [  321.  1411.]\n",
      " [  431. -1122.]\n",
      " [ -204.  1310.]\n",
      " [  -26.  3317.]\n",
      " [  321.  1553.]\n",
      " [   29.  3264.]\n",
      " [-1176.  1544.]\n",
      " [-1397.  1313.]\n",
      " [  938.  -940.]\n",
      " [ -811.  2353.]\n",
      " [  192. -1149.]\n",
      " [ -273. -1691.]\n",
      " [    0.  1310.]\n",
      " [ -811.  1969.]\n",
      " [ -570.  1309.]\n",
      " [ -780.  1923.]\n",
      " [  266.  1680.]\n",
      " [  287.  1680.]\n",
      " [   29.  3317.]\n",
      " [  -26.  3264.]\n",
      " [  -20. -1275.]\n",
      " [  976.  -940.]\n",
      " [ -745.  1691.]\n",
      " [ -745.  1592.]]\n",
      "-------\n",
      "[[ -644.  2354.]\n",
      " [ -632.  1699.]\n",
      " [ -811.  1903.]\n",
      " [ -817.  1592.]\n",
      " [  -91.  1680.]\n",
      " [ -817.  1923.]\n",
      " [  -30.  1310.]\n",
      " [ -817.  1888.]\n",
      " [    6.  3264.]\n",
      " [ -632.  1087.]\n",
      " [  -20. -1691.]\n",
      " [ -574. -1277.]\n",
      " [  192. -1122.]\n",
      " [    0.  1411.]\n",
      " [ -899.  1903.]\n",
      " [ -780.  1691.]\n",
      " [ -780.  1592.]\n",
      " [ -644.  1923.]\n",
      " [    6.  3317.]\n",
      " [ -632.  1309.]\n",
      " [  -30.  1411.]\n",
      " [ -632.  1521.]\n",
      " [ -491. -1583.]\n",
      " [ -211.  1310.]\n",
      " [  431.  -434.]\n",
      " [ -129. -1149.]\n",
      " [  -48. -1831.]\n",
      " [ -574. -1177.]\n",
      " [ -817.  1691.]\n",
      " [ -898.  1313.]\n",
      " [    0.     0.]\n",
      " [  321.  1411.]\n",
      " [  431. -1122.]\n",
      " [ -204.  1310.]\n",
      " [  -26.  3317.]\n",
      " [  321.  1553.]\n",
      " [   29.  3264.]\n",
      " [-1176.  1544.]\n",
      " [-1397.  1313.]\n",
      " [  938.  -940.]\n",
      " [ -811.  2353.]\n",
      " [  192. -1149.]\n",
      " [ -273. -1691.]\n",
      " [    0.  1310.]\n",
      " [ -811.  1969.]\n",
      " [ -570.  1309.]\n",
      " [ -780.  1923.]\n",
      " [  266.  1680.]\n",
      " [  287.  1680.]\n",
      " [   29.  3317.]\n",
      " [  -26.  3264.]\n",
      " [  -20. -1275.]\n",
      " [  976.  -940.]\n",
      " [ -745.  1691.]\n",
      " [ -745.  1592.]]\n"
     ]
    }
   ],
   "source": [
    "countsA = count_steps(xy1, intersections)\n",
    "print('-------')\n",
    "countsB = count_steps(xy2, intersections)"
   ]
  },
  {
   "cell_type": "code",
   "execution_count": 195,
   "metadata": {},
   "outputs": [
    {
     "name": "stdout",
     "output_type": "stream",
     "text": [
      "[34606 32719 33988 29729 26715 33128 28054 33967 38012 32107  3711  4959\n",
      "  2930 26355 33230 30103 29766 32955 38065 32329 26385 32541  4570 28235\n",
      "  6807  5532  3879  5059 30140 29369     0 26034  2691 28228 36187 25026\n",
      " 36347 30646 31098  2002 34438  5853  4244 28024 34054 28595 33091 27388\n",
      " 24865 36294 36134  3295  1964 30068 29801] [ 8998  9665 14886  6029 10225  6360 13034  6325 24730 16809 33085 82649\n",
      " 32304 13379 14974 27817 27916  9429 23681 14113 13135 28135 82260 17453\n",
      " 38103 36542 79227 36069  6128  5669     0 10906 38791 28774 23649 10764\n",
      " 24707 15808  5170 39514 19480 32331 33338 13480 27508 14051 27585 10582\n",
      " 10603 23704 24762 79811 40094 14608 14509]\n"
     ]
    },
    {
     "data": {
      "text/plain": [
       "array([    0, 35038, 35234, 35468, 35758, 35790, 36268, 36268, 36796,\n",
       "       36940, 36940, 37582, 37970, 38184, 39488, 39520, 39734, 40292,\n",
       "       41088, 41128, 41482, 41504, 41516, 42058, 42074, 42384, 42384,\n",
       "       42646, 43604, 44310, 44676, 44910, 45688, 46442, 46454, 48204,\n",
       "       48874, 48916, 53918, 57002, 57682, 57920, 59836, 59998, 60676,\n",
       "       60676, 60896, 61054, 61562, 61746, 62742, 83106, 83106, 86830,\n",
       "       87608])"
      ]
     },
     "execution_count": 195,
     "metadata": {},
     "output_type": "execute_result"
    }
   ],
   "source": [
    "npA = np.array(countsA)\n",
    "npB = np.array(countsB)\n",
    "print(npA, npB)\n",
    "s = np.sum([npA, npB], axis=0)\n",
    "p = np.sort(s)\n",
    "p"
   ]
  },
  {
   "cell_type": "code",
   "execution_count": 175,
   "metadata": {},
   "outputs": [
    {
     "name": "stdout",
     "output_type": "stream",
     "text": [
      "43697\n",
      "42471\n",
      "35833\n",
      "35303\n",
      "35111\n",
      "0\n"
     ]
    }
   ],
   "source": [
    "minsu = 1000000000\n",
    "for i, v in enumerate(npA):\n",
    "    su = v + npB[i]\n",
    "    \n",
    "    if su < minsu:\n",
    "        minsu = su\n",
    "        print(su)"
   ]
  }
 ],
 "metadata": {
  "kernelspec": {
   "display_name": "Python 3",
   "language": "python",
   "name": "python3"
  },
  "language_info": {
   "codemirror_mode": {
    "name": "ipython",
    "version": 3
   },
   "file_extension": ".py",
   "mimetype": "text/x-python",
   "name": "python",
   "nbconvert_exporter": "python",
   "pygments_lexer": "ipython3",
   "version": "3.7.4"
  }
 },
 "nbformat": 4,
 "nbformat_minor": 2
}
