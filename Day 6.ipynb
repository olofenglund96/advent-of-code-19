{
 "cells": [
  {
   "cell_type": "code",
   "execution_count": 34,
   "metadata": {},
   "outputs": [],
   "source": [
    "class Planet:\n",
    "    def __init__(self, name=''):\n",
    "        self.children = []\n",
    "        self.parents = []\n",
    "        self.name = name"
   ]
  },
  {
   "cell_type": "code",
   "execution_count": 35,
   "metadata": {},
   "outputs": [],
   "source": [
    "planets = {}\n",
    "\n",
    "with open('inputs/6.txt', 'r') as file:\n",
    "    for line in file:\n",
    "        pls = line.strip().split(')')\n",
    "        \n",
    "        if pls[1] not in planets:\n",
    "            child_pln = Planet(pls[1])\n",
    "            planets[pls[1]] = child_pln\n",
    "        else:\n",
    "            child_pln = planets[pls[1]]\n",
    "            \n",
    "        if pls[0] not in planets:\n",
    "            pln = Planet(pls[0])\n",
    "            child_pln.parents.append(pln)\n",
    "            pln.children.append(child_pln)\n",
    "            \n",
    "            planets[pls[0]] = pln\n",
    "        else:\n",
    "            planets[pls[0]].children.append(child_pln)\n",
    "            child_pln.parents.append(planets[pls[0]])"
   ]
  },
  {
   "cell_type": "code",
   "execution_count": 29,
   "metadata": {},
   "outputs": [],
   "source": [
    "def count_orbits(planet):\n",
    "    if planet in planets:\n",
    "        psum = 0\n",
    "        for p in planets[planet]:\n",
    "            psum += count_orbits(p)\n",
    "        return psum\n",
    "    else:\n",
    "        return 1"
   ]
  },
  {
   "cell_type": "code",
   "execution_count": 30,
   "metadata": {},
   "outputs": [],
   "source": [
    "orbits = 0\n",
    "for k in planets.keys():\n",
    "    orbits += count_orbits(k)"
   ]
  },
  {
   "cell_type": "code",
   "execution_count": 28,
   "metadata": {},
   "outputs": [
    {
     "name": "stdout",
     "output_type": "stream",
     "text": [
      "1\n"
     ]
    }
   ],
   "source": [
    "orbits = count_orbits('2YQ', 0)\n",
    "print(orbits)"
   ]
  },
  {
   "cell_type": "code",
   "execution_count": null,
   "metadata": {},
   "outputs": [],
   "source": []
  }
 ],
 "metadata": {
  "kernelspec": {
   "display_name": "Python 3",
   "language": "python",
   "name": "python3"
  },
  "language_info": {
   "codemirror_mode": {
    "name": "ipython",
    "version": 3
   },
   "file_extension": ".py",
   "mimetype": "text/x-python",
   "name": "python",
   "nbconvert_exporter": "python",
   "pygments_lexer": "ipython3",
   "version": "3.7.4"
  }
 },
 "nbformat": 4,
 "nbformat_minor": 2
}
