{
 "cells": [
  {
   "cell_type": "code",
   "execution_count": 16,
   "metadata": {},
   "outputs": [],
   "source": [
    "import requests as rq\n",
    "import json\n",
    "from datetime import datetime\n",
    "from pydash import py_"
   ]
  },
  {
   "cell_type": "code",
   "execution_count": 5,
   "metadata": {},
   "outputs": [],
   "source": [
    "session = 'session=53616c7465645f5f9a480a6c2d4c0b45c56bc022e6fc0a523f2e218842e11c69efea3b2c50d3c2ff58680b6c334221dc'\n",
    "\n",
    "stats = rq.get('https://adventofcode.com/2019/leaderboard/private/view/107707.json', headers={'Cookie': session})"
   ]
  },
  {
   "cell_type": "code",
   "execution_count": 68,
   "metadata": {},
   "outputs": [
    {
     "name": "stdout",
     "output_type": "stream",
     "text": [
      "{'1': {'1': {'get_star_ts': '1575213104'}, '2': {'get_star_ts': '1575214138'}}, '2': {'1': {'get_star_ts': '1575306017'}, '2': {'get_star_ts': '1575306517'}}}\n",
      "2\n",
      "2\n",
      "2\n",
      "2\n"
     ]
    }
   ],
   "source": [
    "members = json.loads(stats.content)['members']\n",
    "\n",
    "olof = members['430926']\n",
    "star_dates = []\n",
    "cdl = olof['completion_day_level']\n",
    "print(cdl)\n",
    "\n",
    "for k1 in cdl:\n",
    "    for k2 in cdl[k1]:\n",
    "        print(k3)\n",
    "        star_dates.append(str(datetime.fromtimestamp(int(cdl[k1][k2]['get_star_ts']))))"
   ]
  },
  {
   "cell_type": "code",
   "execution_count": 72,
   "metadata": {},
   "outputs": [
    {
     "name": "stdout",
     "output_type": "stream",
     "text": [
      "['2019-12-01 16:11:44', '2019-12-01 16:28:58', '2019-12-02 18:00:17', '2019-12-02 18:08:37']\n",
      "[1, 2, 3, 4]\n"
     ]
    },
    {
     "data": {
      "image/png": "[encoded data removed]",
      "text/plain": [
       "<Figure size 432x288 with 1 Axes>"
      ]
     },
     "metadata": {
      "needs_background": "light"
     },
     "output_type": "display_data"
    }
   ],
   "source": [
    "print(star_dates)\n",
    "stars = [i+1 for i in range(0, len(star_dates))]\n",
    "print(stars)\n",
    "\n",
    "import matplotlib.pyplot as plt\n",
    "\n",
    "plt.plot(star_dates, stars, 'r+')\n",
    "plt.show()"
   ]
  }
 ],
 "metadata": {
  "kernelspec": {
   "display_name": "Python 3",
   "language": "python",
   "name": "python3"
  },
  "language_info": {
   "codemirror_mode": {
    "name": "ipython",
    "version": 3
   },
   "file_extension": ".py",
   "mimetype": "text/x-python",
   "name": "python",
   "nbconvert_exporter": "python",
   "pygments_lexer": "ipython3",
   "version": "3.7.4"
  }
 },
 "nbformat": 4,
 "nbformat_minor": 2
}
